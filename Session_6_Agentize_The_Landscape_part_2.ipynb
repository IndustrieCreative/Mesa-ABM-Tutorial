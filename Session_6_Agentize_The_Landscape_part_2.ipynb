{
  "cells": [
    {
      "cell_type": "markdown",
      "metadata": {
        "id": "view-in-github",
        "colab_type": "text"
      },
      "source": [
        "<a href=\"https://colab.research.google.com/github/SFIComplexityExplorer/Mesa-ABM-Tutorial/blob/main/Session_6_Agentize_The_Landscape_part_2.ipynb\" target=\"_parent\"><img src=\"https://colab.research.google.com/assets/colab-badge.svg\" alt=\"Open In Colab\"/></a>"
      ]
    },
    {
      "cell_type": "markdown",
      "metadata": {
        "id": "XAnII-29m3r2"
      },
      "source": [
        "# Import Dependencies"
      ]
    },
    {
      "cell_type": "code",
      "execution_count": null,
      "metadata": {
        "id": "ikSl2Mz0m252"
      },
      "outputs": [],
      "source": [
        "try:\n",
        "  import mesa\n",
        "except:\n",
        "  !pip install mesa --quiet\n",
        "import mesa\n",
        "import numpy as np\n",
        "import math\n",
        "import matplotlib.pyplot as plt\n",
        "\n",
        "%matplotlib inline"
      ]
    },
    {
      "cell_type": "markdown",
      "metadata": {
        "id": "BkX5GqjSnAu0"
      },
      "source": [
        "# Resource Classes"
      ]
    },
    {
      "cell_type": "code",
      "execution_count": null,
      "metadata": {
        "id": "o1EOk5KMnC55"
      },
      "outputs": [],
      "source": [
        "class Sugar(mesa.Agent):\n",
        "  \"\"\"\n",
        "  Sugar:\n",
        "  - contains an amount of sugar\n",
        "  - grows 1 amount of sugar at each turn\n",
        "  \"\"\"\n",
        "\n",
        "  def __init__(self, unique_id, model, pos, max_sugar):\n",
        "    super().__init__(unique_id, model)\n",
        "    self.pos = pos\n",
        "    self.amount = max_sugar\n",
        "    self.max_sugar = max_sugar"
      ]
    },
    {
      "cell_type": "code",
      "execution_count": null,
      "metadata": {
        "id": "-oJ35Mx7nXmK"
      },
      "outputs": [],
      "source": [
        "class Spice(mesa.Agent):\n",
        "  \"\"\"\n",
        "  Spice:\n",
        "  - contains an amount of spice\n",
        "  - grows 1 amount of spice at each turn\n",
        "  \"\"\"\n",
        "\n",
        "  def __init__(self, unique_id, model, pos, max_spice):\n",
        "    super().__init__(unique_id, model)\n",
        "    self.pos = pos\n",
        "    self.amount = max_spice\n",
        "    self.max_spice = max_spice\n",
        ""
      ]
    },
    {
      "cell_type": "markdown",
      "metadata": {
        "id": "XYcwNrHqnrPt"
      },
      "source": [
        "# Trader Agent"
      ]
    },
    {
      "cell_type": "code",
      "execution_count": null,
      "metadata": {
        "id": "t51BNfwUnt53"
      },
      "outputs": [],
      "source": [
        "class Trader(mesa.Agent):\n",
        "  \"\"\"\n",
        "  Trader:\n",
        "  - has a metabolism of sugar and spice\n",
        "  - harvest and trade sugar and spice to survive\n",
        "  \"\"\"\n",
        "\n",
        "\n",
        "  def __init__(self):\n",
        "\n",
        "    print(\"I am Trader\")\n",
        "\n"
      ]
    },
    {
      "cell_type": "markdown",
      "metadata": {
        "id": "SRrU2ABBoF0i"
      },
      "source": [
        "# Model Class"
      ]
    },
    {
      "cell_type": "code",
      "execution_count": null,
      "metadata": {
        "id": "7DTonjahn2BT"
      },
      "outputs": [],
      "source": [
        "class SugarscapeG1mt(mesa.Model):\n",
        "  \"\"\"\n",
        "  Manager class to run Sugarscape with Traders\n",
        "  \"\"\"\n",
        "\n",
        "\n",
        "  def __init__(self, width=50,height=50, seed =3):\n",
        "    super().__init__()\n",
        "    #Initiate width and heigh of sugarscape\n",
        "    self.width = width\n",
        "    self.height = height\n",
        "    self._seed = seed\n",
        "    print(self._seed)\n",
        "\n",
        "\n",
        "\n",
        "    #initiate activation schedule\n",
        "    self.schedule = mesa.time.RandomActivationByType(self)\n",
        "    #initiate mesa grid class\n",
        "    self.grid = mesa.space.MultiGrid(self.width, self.height, torus=False)\n",
        "\n",
        "    #read in landscape file from supplmentary material\n",
        "    sugar_distribution =np.genfromtxt(\"sugar-map.txt\")\n",
        "    spice_distribution = np.flip(sugar_distribution, 1)\n",
        "\n",
        "    agent_id = 0\n",
        "    for _,(x,y) in self.grid.coord_iter():\n",
        "      max_sugar = sugar_distribution[x,y]\n",
        "      if max_sugar > 0:\n",
        "        sugar = Sugar(agent_id, self, (x,y), max_sugar)\n",
        "        self.schedule.add(sugar)\n",
        "        self.grid.place_agent(sugar, (x,y))\n",
        "        #print(self.schedule.agents_by_type[Sugar][agent_id])\n",
        "        agent_id += 1\n",
        "\n",
        "      max_spice = spice_distribution[x,y]\n",
        "      if max_spice > 0:\n",
        "        spice = Spice(agent_id, self, (x,y), max_spice)\n",
        "        self.schedule.add(spice)\n",
        "        self.grid.place_agent(spice, (x,y))\n",
        "        #print(self.schedule.agents_by_type[Spice][agent_id])\n",
        "        agent_id += 1\n",
        "\n"
      ]
    },
    {
      "cell_type": "markdown",
      "metadata": {
        "id": "_KHKfeD9oiYo"
      },
      "source": [
        "# Run Sugarscape"
      ]
    },
    {
      "cell_type": "code",
      "execution_count": null,
      "metadata": {
        "id": "at455urSol7b"
      },
      "outputs": [],
      "source": [
        "model = SugarscapeG1mt()\n",
        "\n"
      ]
    },
    {
      "cell_type": "code",
      "source": [
        "model2 = SugarscapeG1mt()"
      ],
      "metadata": {
        "id": "giuCZ1gWF0M0"
      },
      "execution_count": null,
      "outputs": []
    },
    {
      "cell_type": "code",
      "source": [
        "try1 = model.random.getstate()\n",
        "try2 = model2.random.getstate()\n",
        "\n",
        "try1==try2"
      ],
      "metadata": {
        "id": "ypCIkKT7yweV"
      },
      "execution_count": null,
      "outputs": []
    },
    {
      "cell_type": "code",
      "source": [
        "model.__dict__"
      ],
      "metadata": {
        "id": "PrhA9N40Cofp"
      },
      "execution_count": null,
      "outputs": []
    },
    {
      "cell_type": "code",
      "source": [
        "try1 == try2"
      ],
      "metadata": {
        "id": "EEUToVtkDfIU"
      },
      "execution_count": null,
      "outputs": []
    },
    {
      "cell_type": "code",
      "source": [
        "import random\n",
        "\n",
        "random.seed(3)\n",
        "\n",
        "try1 = random.getstate()\n"
      ],
      "metadata": {
        "id": "6FTTPaapEB0R"
      },
      "execution_count": null,
      "outputs": []
    },
    {
      "cell_type": "code",
      "source": [
        "random.seed(3)\n",
        "\n",
        "try2 = random.getstate()"
      ],
      "metadata": {
        "id": "Hse08WHsFold"
      },
      "execution_count": null,
      "outputs": []
    },
    {
      "cell_type": "code",
      "source": [
        "try1 == try2"
      ],
      "metadata": {
        "id": "USGhpk0LFsVH"
      },
      "execution_count": null,
      "outputs": []
    },
    {
      "cell_type": "code",
      "execution_count": null,
      "metadata": {
        "id": "vemquyVptT3Z"
      },
      "outputs": [],
      "source": [
        "help(model.random)"
      ]
    },
    {
      "cell_type": "code",
      "source": [],
      "metadata": {
        "id": "lC67ZnwRxI_r"
      },
      "execution_count": null,
      "outputs": []
    }
  ],
  "metadata": {
    "colab": {
      "provenance": [],
      "include_colab_link": true
    },
    "kernelspec": {
      "display_name": "Python 3",
      "language": "python",
      "name": "python3"
    },
    "language_info": {
      "codemirror_mode": {
        "name": "ipython",
        "version": 3
      },
      "file_extension": ".py",
      "mimetype": "text/x-python",
      "name": "python",
      "nbconvert_exporter": "python",
      "pygments_lexer": "ipython3",
      "version": "3.9.6"
    }
  },
  "nbformat": 4,
  "nbformat_minor": 0
}